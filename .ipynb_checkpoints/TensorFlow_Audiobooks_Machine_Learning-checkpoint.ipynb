{
 "cells": [
  {
   "cell_type": "markdown",
   "id": "e49ff751-f752-4609-bb1f-71d573a67711",
   "metadata": {},
   "source": [
    "## Create the machine learning algorithm"
   ]
  },
  {
   "cell_type": "markdown",
   "id": "66f41fb3-8af5-405c-af97-5436980ad172",
   "metadata": {},
   "source": [
    "### Import the relevant libraries"
   ]
  },
  {
   "cell_type": "code",
   "execution_count": 1,
   "id": "6fdd52a8-fabd-4149-87e0-d0d98ecad9bf",
   "metadata": {},
   "outputs": [],
   "source": [
    "import numpy as np\n",
    "import tensorflow as tf"
   ]
  },
  {
   "cell_type": "markdown",
   "id": "f47b1a37-7bdc-463c-9518-d4971b052843",
   "metadata": {},
   "source": [
    "### Data"
   ]
  },
  {
   "cell_type": "code",
   "execution_count": 2,
   "id": "e133f5fb-7d3d-4024-bedb-1c5c49aa7271",
   "metadata": {},
   "outputs": [],
   "source": [
    "npz = np.load('Audiobooks_data_train.npz')\n",
    "\n",
    "train_inputs = npz['inputs'].astype('float')\n",
    "train_targets = npz['targets'].astype('int')\n",
    "\n",
    "npz = np.load('Audiobooks_data_validation.npz')\n",
    "\n",
    "validation_inputs = npz['inputs'].astype('float')\n",
    "validation_targets = npz['targets'].astype('int')\n",
    "\n",
    "npz = np.load('Audiobooks_data_test.npz')\n",
    "\n",
    "test_inputs = npz['inputs'].astype('float')\n",
    "test_targets = npz['targets'].astype('int')"
   ]
  },
  {
   "cell_type": "markdown",
   "id": "b683f8e4-4974-42d5-8e7d-6a9e29daa574",
   "metadata": {},
   "source": [
    "### Model\n",
    "\n",
    "Outline, optimizers, loss, early stopping and training"
   ]
  },
  {
   "cell_type": "code",
   "execution_count": 3,
   "id": "b6afc9e1-4e4c-4791-a3f9-5741abc0996a",
   "metadata": {},
   "outputs": [
    {
     "name": "stdout",
     "output_type": "stream",
     "text": [
      "Epoch 1/100\n",
      "36/36 - 2s - 42ms/step - accuracy: 0.6753 - loss: 0.6059 - val_accuracy: 0.7852 - val_loss: 0.5211\n",
      "Epoch 2/100\n",
      "36/36 - 0s - 3ms/step - accuracy: 0.7650 - loss: 0.4882 - val_accuracy: 0.8031 - val_loss: 0.4518\n",
      "Epoch 3/100\n",
      "36/36 - 0s - 2ms/step - accuracy: 0.7726 - loss: 0.4429 - val_accuracy: 0.7987 - val_loss: 0.4185\n",
      "Epoch 4/100\n",
      "36/36 - 0s - 2ms/step - accuracy: 0.7762 - loss: 0.4217 - val_accuracy: 0.8098 - val_loss: 0.4043\n",
      "Epoch 5/100\n",
      "36/36 - 0s - 2ms/step - accuracy: 0.7851 - loss: 0.4084 - val_accuracy: 0.8188 - val_loss: 0.3913\n",
      "Epoch 6/100\n",
      "36/36 - 0s - 2ms/step - accuracy: 0.7882 - loss: 0.3990 - val_accuracy: 0.8255 - val_loss: 0.3814\n",
      "Epoch 7/100\n",
      "36/36 - 0s - 3ms/step - accuracy: 0.7913 - loss: 0.3925 - val_accuracy: 0.8188 - val_loss: 0.3770\n",
      "Epoch 8/100\n",
      "36/36 - 0s - 2ms/step - accuracy: 0.7935 - loss: 0.3883 - val_accuracy: 0.8143 - val_loss: 0.3747\n",
      "Epoch 9/100\n",
      "36/36 - 0s - 2ms/step - accuracy: 0.7969 - loss: 0.3844 - val_accuracy: 0.8143 - val_loss: 0.3693\n",
      "Epoch 10/100\n",
      "36/36 - 0s - 2ms/step - accuracy: 0.7930 - loss: 0.3814 - val_accuracy: 0.8277 - val_loss: 0.3657\n",
      "Epoch 11/100\n",
      "36/36 - 0s - 2ms/step - accuracy: 0.7963 - loss: 0.3784 - val_accuracy: 0.8255 - val_loss: 0.3618\n",
      "Epoch 12/100\n",
      "36/36 - 0s - 2ms/step - accuracy: 0.7985 - loss: 0.3763 - val_accuracy: 0.8300 - val_loss: 0.3593\n",
      "Epoch 13/100\n",
      "36/36 - 0s - 2ms/step - accuracy: 0.8027 - loss: 0.3734 - val_accuracy: 0.8277 - val_loss: 0.3606\n",
      "Epoch 14/100\n",
      "36/36 - 0s - 3ms/step - accuracy: 0.7994 - loss: 0.3728 - val_accuracy: 0.8233 - val_loss: 0.3534\n",
      "Epoch 15/100\n",
      "36/36 - 0s - 3ms/step - accuracy: 0.8036 - loss: 0.3695 - val_accuracy: 0.8322 - val_loss: 0.3545\n",
      "Epoch 16/100\n",
      "36/36 - 0s - 3ms/step - accuracy: 0.7980 - loss: 0.3694 - val_accuracy: 0.8367 - val_loss: 0.3516\n",
      "Epoch 17/100\n",
      "36/36 - 0s - 2ms/step - accuracy: 0.8011 - loss: 0.3686 - val_accuracy: 0.8233 - val_loss: 0.3527\n",
      "Epoch 18/100\n",
      "36/36 - 0s - 2ms/step - accuracy: 0.8005 - loss: 0.3657 - val_accuracy: 0.8277 - val_loss: 0.3505\n",
      "Epoch 19/100\n",
      "36/36 - 0s - 3ms/step - accuracy: 0.8036 - loss: 0.3679 - val_accuracy: 0.8345 - val_loss: 0.3468\n",
      "Epoch 20/100\n",
      "36/36 - 0s - 3ms/step - accuracy: 0.7999 - loss: 0.3645 - val_accuracy: 0.8188 - val_loss: 0.3527\n",
      "Epoch 21/100\n",
      "36/36 - 0s - 3ms/step - accuracy: 0.8008 - loss: 0.3624 - val_accuracy: 0.8345 - val_loss: 0.3470\n"
     ]
    },
    {
     "data": {
      "text/plain": [
       "<keras.src.callbacks.history.History at 0x2ab83d39590>"
      ]
     },
     "execution_count": 3,
     "metadata": {},
     "output_type": "execute_result"
    }
   ],
   "source": [
    "input_size = 10\n",
    "output_size = 2\n",
    "hidden_layer_size = 50\n",
    "\n",
    "# Input Layer implicitly created when the model is fed data\n",
    "model = tf.keras.Sequential([\n",
    "    tf.keras.layers.Dense(hidden_layer_size, activation='tanh'),\n",
    "    tf.keras.layers.Dense(hidden_layer_size, activation='sigmoid'),\n",
    "    tf.keras.layers.Dense(output_size, activation='softmax')\n",
    "])\n",
    "\n",
    "model.compile(optimizer='adam', loss='sparse_categorical_crossentropy', metrics=['accuracy'])\n",
    "\n",
    "batch_size = 100\n",
    "\n",
    "max_epochs = 100\n",
    "\n",
    "early_stopping = tf.keras.callbacks.EarlyStopping(patience=2)\n",
    "\n",
    "model.fit(\n",
    "    x=train_inputs,\n",
    "    y=train_targets,\n",
    "    batch_size=batch_size,\n",
    "    epochs=max_epochs,\n",
    "    callbacks=[early_stopping],\n",
    "    validation_data=(validation_inputs, validation_targets),\n",
    "    verbose=2\n",
    ")"
   ]
  },
  {
   "cell_type": "markdown",
   "id": "52cb6dff",
   "metadata": {},
   "source": [
    "### Test the model"
   ]
  },
  {
   "cell_type": "code",
   "execution_count": 4,
   "id": "1813eeb0",
   "metadata": {},
   "outputs": [
    {
     "name": "stdout",
     "output_type": "stream",
     "text": [
      "\u001b[1m14/14\u001b[0m \u001b[32m━━━━━━━━━━━━━━━━━━━━\u001b[0m\u001b[37m\u001b[0m \u001b[1m0s\u001b[0m 1ms/step - accuracy: 0.8166 - loss: 0.3499 \n"
     ]
    }
   ],
   "source": [
    "test_loss, test_accuracy = model.evaluate(test_inputs, test_targets)"
   ]
  },
  {
   "cell_type": "code",
   "execution_count": 5,
   "id": "5b61429a",
   "metadata": {},
   "outputs": [
    {
     "name": "stdout",
     "output_type": "stream",
     "text": [
      "\n",
      "Test loss: 0.37. Test accuracy: 80.58%\n"
     ]
    }
   ],
   "source": [
    "print('\\nTest loss: {0:.2f}. Test accuracy: {1:.2f}%'.format(test_loss, test_accuracy*100))"
   ]
  }
 ],
 "metadata": {
  "kernelspec": {
   "display_name": "Python 3 (ipykernel)",
   "language": "python",
   "name": "python3"
  },
  "language_info": {
   "codemirror_mode": {
    "name": "ipython",
    "version": 3
   },
   "file_extension": ".py",
   "mimetype": "text/x-python",
   "name": "python",
   "nbconvert_exporter": "python",
   "pygments_lexer": "ipython3",
   "version": "3.11.5"
  }
 },
 "nbformat": 4,
 "nbformat_minor": 5
}
