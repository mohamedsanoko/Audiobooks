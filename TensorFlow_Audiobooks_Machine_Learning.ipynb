{
 "cells": [
  {
   "cell_type": "markdown",
   "id": "e49ff751-f752-4609-bb1f-71d573a67711",
   "metadata": {},
   "source": [
    "## Create the machine learning algorithm"
   ]
  },
  {
   "cell_type": "markdown",
   "id": "66f41fb3-8af5-405c-af97-5436980ad172",
   "metadata": {},
   "source": [
    "### Import the relevant libraries"
   ]
  },
  {
   "cell_type": "code",
   "execution_count": 1,
   "id": "6fdd52a8-fabd-4149-87e0-d0d98ecad9bf",
   "metadata": {},
   "outputs": [],
   "source": [
    "import numpy as np\n",
    "import tensorflow as tf"
   ]
  },
  {
   "cell_type": "markdown",
   "id": "f47b1a37-7bdc-463c-9518-d4971b052843",
   "metadata": {},
   "source": [
    "### Data"
   ]
  },
  {
   "cell_type": "code",
   "execution_count": 2,
   "id": "e133f5fb-7d3d-4024-bedb-1c5c49aa7271",
   "metadata": {},
   "outputs": [],
   "source": [
    "npz = np.load('Audiobooks_data_train.npz')\n",
    "\n",
    "train_inputs = npz['inputs'].astype('float')\n",
    "train_targets = npz['targets'].astype('int')\n",
    "\n",
    "npz = np.load('Audiobooks_data_validation.npz')\n",
    "\n",
    "validation_inputs = npz['inputs'].astype('float')\n",
    "validation_targets = npz['targets'].astype('int')\n",
    "\n",
    "npz = np.load('Audiobooks_data_test.npz')\n",
    "\n",
    "test_inputs = npz['inputs'].astype('float')\n",
    "test_targets = npz['targets'].astype('int')"
   ]
  },
  {
   "cell_type": "markdown",
   "id": "b683f8e4-4974-42d5-8e7d-6a9e29daa574",
   "metadata": {},
   "source": [
    "### Model\n",
    "\n",
    "Outline, optimizers, loss, early stopping and training"
   ]
  },
  {
   "cell_type": "code",
   "execution_count": 3,
   "id": "b6afc9e1-4e4c-4791-a3f9-5741abc0996a",
   "metadata": {},
   "outputs": [
    {
     "name": "stdout",
     "output_type": "stream",
     "text": [
      "Epoch 1/100\n",
      "36/36 - 1s - 32ms/step - accuracy: 0.6113 - loss: 0.6692 - val_accuracy: 0.7293 - val_loss: 0.5786\n",
      "Epoch 2/100\n",
      "36/36 - 0s - 2ms/step - accuracy: 0.7513 - loss: 0.5324 - val_accuracy: 0.7987 - val_loss: 0.4782\n",
      "Epoch 3/100\n",
      "36/36 - 0s - 2ms/step - accuracy: 0.7653 - loss: 0.4649 - val_accuracy: 0.8054 - val_loss: 0.4305\n",
      "Epoch 4/100\n",
      "36/36 - 0s - 2ms/step - accuracy: 0.7740 - loss: 0.4323 - val_accuracy: 0.8166 - val_loss: 0.4084\n",
      "Epoch 5/100\n",
      "36/36 - 0s - 2ms/step - accuracy: 0.7821 - loss: 0.4145 - val_accuracy: 0.8188 - val_loss: 0.3952\n",
      "Epoch 6/100\n",
      "36/36 - 0s - 2ms/step - accuracy: 0.7818 - loss: 0.4054 - val_accuracy: 0.8210 - val_loss: 0.3816\n",
      "Epoch 7/100\n",
      "36/36 - 0s - 2ms/step - accuracy: 0.7854 - loss: 0.3973 - val_accuracy: 0.8210 - val_loss: 0.3743\n",
      "Epoch 8/100\n",
      "36/36 - 0s - 2ms/step - accuracy: 0.7913 - loss: 0.3906 - val_accuracy: 0.8255 - val_loss: 0.3713\n",
      "Epoch 9/100\n",
      "36/36 - 0s - 2ms/step - accuracy: 0.7955 - loss: 0.3862 - val_accuracy: 0.8277 - val_loss: 0.3626\n",
      "Epoch 10/100\n",
      "36/36 - 0s - 2ms/step - accuracy: 0.7890 - loss: 0.3840 - val_accuracy: 0.8300 - val_loss: 0.3601\n",
      "Epoch 11/100\n",
      "36/36 - 0s - 2ms/step - accuracy: 0.7966 - loss: 0.3783 - val_accuracy: 0.8166 - val_loss: 0.3589\n",
      "Epoch 12/100\n",
      "36/36 - 0s - 2ms/step - accuracy: 0.7924 - loss: 0.3776 - val_accuracy: 0.8300 - val_loss: 0.3588\n",
      "Epoch 13/100\n",
      "36/36 - 0s - 2ms/step - accuracy: 0.7997 - loss: 0.3745 - val_accuracy: 0.8188 - val_loss: 0.3560\n",
      "Epoch 14/100\n",
      "36/36 - 0s - 4ms/step - accuracy: 0.7983 - loss: 0.3725 - val_accuracy: 0.8300 - val_loss: 0.3517\n",
      "Epoch 15/100\n",
      "36/36 - 0s - 4ms/step - accuracy: 0.7980 - loss: 0.3715 - val_accuracy: 0.8233 - val_loss: 0.3529\n",
      "Epoch 16/100\n",
      "36/36 - 0s - 10ms/step - accuracy: 0.8002 - loss: 0.3694 - val_accuracy: 0.8367 - val_loss: 0.3457\n",
      "Epoch 17/100\n",
      "36/36 - 0s - 5ms/step - accuracy: 0.8016 - loss: 0.3678 - val_accuracy: 0.8322 - val_loss: 0.3463\n",
      "Epoch 18/100\n",
      "36/36 - 0s - 5ms/step - accuracy: 0.7963 - loss: 0.3678 - val_accuracy: 0.8412 - val_loss: 0.3452\n",
      "Epoch 19/100\n",
      "36/36 - 0s - 4ms/step - accuracy: 0.8030 - loss: 0.3653 - val_accuracy: 0.8412 - val_loss: 0.3409\n",
      "Epoch 20/100\n",
      "36/36 - 0s - 4ms/step - accuracy: 0.8013 - loss: 0.3655 - val_accuracy: 0.8389 - val_loss: 0.3453\n",
      "Epoch 21/100\n",
      "36/36 - 0s - 5ms/step - accuracy: 0.7955 - loss: 0.3668 - val_accuracy: 0.8345 - val_loss: 0.3406\n",
      "Epoch 22/100\n",
      "36/36 - 0s - 5ms/step - accuracy: 0.7988 - loss: 0.3665 - val_accuracy: 0.8277 - val_loss: 0.3449\n",
      "Epoch 23/100\n",
      "36/36 - 0s - 4ms/step - accuracy: 0.8027 - loss: 0.3629 - val_accuracy: 0.8367 - val_loss: 0.3373\n",
      "Epoch 24/100\n",
      "36/36 - 0s - 5ms/step - accuracy: 0.7997 - loss: 0.3623 - val_accuracy: 0.8345 - val_loss: 0.3402\n",
      "Epoch 25/100\n",
      "36/36 - 0s - 4ms/step - accuracy: 0.8033 - loss: 0.3612 - val_accuracy: 0.8389 - val_loss: 0.3367\n",
      "Epoch 26/100\n",
      "36/36 - 0s - 5ms/step - accuracy: 0.8025 - loss: 0.3620 - val_accuracy: 0.8434 - val_loss: 0.3342\n",
      "Epoch 27/100\n",
      "36/36 - 0s - 5ms/step - accuracy: 0.8036 - loss: 0.3596 - val_accuracy: 0.8412 - val_loss: 0.3331\n",
      "Epoch 28/100\n",
      "36/36 - 0s - 5ms/step - accuracy: 0.7999 - loss: 0.3581 - val_accuracy: 0.7696 - val_loss: 0.3539\n",
      "Epoch 29/100\n",
      "36/36 - 0s - 4ms/step - accuracy: 0.7924 - loss: 0.3620 - val_accuracy: 0.8389 - val_loss: 0.3314\n",
      "Epoch 30/100\n",
      "36/36 - 0s - 5ms/step - accuracy: 0.8047 - loss: 0.3589 - val_accuracy: 0.8389 - val_loss: 0.3323\n",
      "Epoch 31/100\n",
      "36/36 - 0s - 5ms/step - accuracy: 0.8092 - loss: 0.3565 - val_accuracy: 0.8389 - val_loss: 0.3324\n"
     ]
    },
    {
     "data": {
      "text/plain": [
       "<keras.src.callbacks.history.History at 0x26d0ca68590>"
      ]
     },
     "execution_count": 3,
     "metadata": {},
     "output_type": "execute_result"
    }
   ],
   "source": [
    "input_size = 10\n",
    "output_size = 2\n",
    "hidden_layer_size = 50\n",
    "\n",
    "# Input Layer implicitly created when the model is fed data\n",
    "model = tf.keras.Sequential([\n",
    "    tf.keras.layers.Dense(hidden_layer_size, activation='tanh'),\n",
    "    tf.keras.layers.Dense(hidden_layer_size, activation='sigmoid'),\n",
    "    tf.keras.layers.Dense(output_size, activation='softmax')\n",
    "])\n",
    "\n",
    "model.compile(optimizer='adam', loss='sparse_categorical_crossentropy', metrics=['accuracy'])\n",
    "\n",
    "batch_size = 100\n",
    "\n",
    "max_epochs = 100\n",
    "\n",
    "early_stopping = tf.keras.callbacks.EarlyStopping(patience=2)\n",
    "\n",
    "model.fit(\n",
    "    x=train_inputs,\n",
    "    y=train_targets,\n",
    "    batch_size=batch_size,\n",
    "    epochs=max_epochs,\n",
    "    callbacks=[early_stopping],\n",
    "    validation_data=(validation_inputs, validation_targets),\n",
    "    verbose=2\n",
    ")"
   ]
  },
  {
   "cell_type": "code",
   "execution_count": null,
   "id": "35e25e66-b2cf-4ce6-a594-f6261fe88e8b",
   "metadata": {},
   "outputs": [],
   "source": []
  }
 ],
 "metadata": {
  "kernelspec": {
   "display_name": "Python 3 (ipykernel)",
   "language": "python",
   "name": "python3"
  },
  "language_info": {
   "codemirror_mode": {
    "name": "ipython",
    "version": 3
   },
   "file_extension": ".py",
   "mimetype": "text/x-python",
   "name": "python",
   "nbconvert_exporter": "python",
   "pygments_lexer": "ipython3",
   "version": "3.11.5"
  }
 },
 "nbformat": 4,
 "nbformat_minor": 5
}
